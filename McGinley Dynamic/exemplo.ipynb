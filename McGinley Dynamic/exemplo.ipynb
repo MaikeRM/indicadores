{
 "cells": [
  {
   "cell_type": "markdown",
   "metadata": {},
   "source": [
    "# O que é o Indicador Dinâmico McGinley?"
   ]
  },
  {
   "cell_type": "markdown",
   "metadata": {},
   "source": [
    "O indicador McGinley Dynamic é um tipo de média móvel que foi projetada para acompanhar o mercado melhor do que os indicadores de média móvel existentes. É um indicador técnico que melhora as linhas médias móveis, ajustando-se para mudanças na velocidade do mercado. John R. McGinley, um técnico de mercado, é o inventor do indicador homônimo."
   ]
  },
  {
   "cell_type": "markdown",
   "metadata": {},
   "source": [
    "### PRINCIPAIS PONTOS\n",
    "* O indicador McGinley é um tipo de média móvel que foi projetada para acompanhar o mercado melhor do que os indicadores de média móvel existentes.\n",
    "* Este indicador resolve a questão das variadas velocidades de mercado incorporando um fator de ajuste automático em sua fórmula, que acelera (ou desacelera) o indicador em mercados em tendência, ou variando.\n",
    "* O indicador McGinley melhora as médias móveis convencionais minimizando separações de preços e whipsaws voláteis para que a ação de preços seja refletida com mais precisão."
   ]
  },
  {
   "cell_type": "markdown",
   "metadata": {},
   "source": []
  },
  {
   "cell_type": "code",
   "execution_count": null,
   "metadata": {},
   "outputs": [],
   "source": [
    "import numpy as np"
   ]
  },
  {
   "cell_type": "code",
   "execution_count": null,
   "metadata": {},
   "outputs": [],
   "source": [
    "def add_column(data, times):\n",
    "    for _ in range(1, times + 1):\n",
    "        new = np.zeros((len(data), 1), dtype = float)\n",
    "\n",
    "        data = np.append(data, new, axis = 1)\n",
    "    return data\n",
    "\n",
    "def delete_column(data, index, times):\n",
    "    for _ in range(1, times + 1):\n",
    "        data = np.delete(data, index, axis = 1)\n",
    "    return data\n",
    "\n",
    "def delete_row(data, number):\n",
    "    data = data[number:, ]\n",
    "    return data"
   ]
  },
  {
   "cell_type": "code",
   "execution_count": null,
   "metadata": {},
   "outputs": [],
   "source": []
  }
 ],
 "metadata": {
  "interpreter": {
   "hash": "2a89ebda5b1df6869a80ed231ce3cbd82800ba4c96516904a7ea152290f5b260"
  },
  "kernelspec": {
   "display_name": "Python 3.8.8 ('base')",
   "language": "python",
   "name": "python3"
  },
  "language_info": {
   "name": "python",
   "version": "3.8.8"
  },
  "orig_nbformat": 4
 },
 "nbformat": 4,
 "nbformat_minor": 2
}
